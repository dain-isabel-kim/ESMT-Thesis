{
 "cells": [
  {
   "cell_type": "code",
   "execution_count": 31,
   "metadata": {},
   "outputs": [
    {
     "name": "stderr",
     "output_type": "stream",
     "text": [
      "C:\\Users\\곰단\\AppData\\Local\\Temp\\ipykernel_4816\\2029714194.py:7: DtypeWarning: Columns (3,4) have mixed types. Specify dtype option on import or set low_memory=False.\n",
      "  emailDataInput = pd.read_csv('../Dataset/FinalEdata.csv')\n"
     ]
    }
   ],
   "source": [
    "import pandas as pd\n",
    "import numpy as np\n",
    "import networkx as nx\n",
    "from matplotlib import pyplot as plt\n",
    "from matplotlib.pyplot import figure\n",
    "attributesInput = pd.read_csv('../Dataset/AttributesF.csv')\n",
    "emailDataInput = pd.read_csv('../Dataset/FinalEdata.csv')\n",
    "conflictsInput = pd.read_csv('../Dataset/TC2.csv')"
   ]
  },
  {
   "cell_type": "code",
   "execution_count": 32,
   "metadata": {},
   "outputs": [],
   "source": [
    "attributes = attributesInput"
   ]
  },
  {
   "cell_type": "code",
   "execution_count": 33,
   "metadata": {},
   "outputs": [],
   "source": [
    "conflicts = conflictsInput.set_index(['Source'])\n",
    "conflicts = conflicts.stack().to_frame()\n",
    "conflicts = conflicts.rename_axis(['sjt', 'ojt']).reset_index()\n",
    "conflicts = conflicts.rename(columns={0: 'type'}) \n",
    "conflicts = conflicts.astype({'type': 'int32'})\n",
    "conflicts = conflicts.astype({'ojt': 'int32'})"
   ]
  },
  {
   "cell_type": "code",
   "execution_count": 34,
   "metadata": {},
   "outputs": [],
   "source": [
    "conflicts = conflicts.merge(attributesInput, how='left', left_on='sjt', right_on='ID')\n",
    "conflicts = conflicts.drop(columns=['ID', 'Gender', 'Age', 'Tenure_Full', 'Supervisor_T1', 'Hierarchical Level'])\n",
    "conflicts = conflicts.rename(columns={'Department': 'dep_sjt'})\n",
    "conflicts = conflicts.merge(attributesInput, how='left', left_on='ojt', right_on='ID')\n",
    "conflicts = conflicts.drop(columns=['ID', 'Gender', 'Age', 'Tenure_Full', 'Supervisor_T1', 'Hierarchical Level'])\n",
    "conflicts = conflicts.rename(columns={'Department': 'dep_ojt'})\n",
    "conflicts = conflicts.astype({'dep_sjt': 'int16', 'dep_ojt': 'int16'})\n",
    "conflicts = conflicts.loc[conflicts['type'] == 1]"
   ]
  },
  {
   "cell_type": "markdown",
   "metadata": {},
   "source": [
    "Remove rows that are between the same people e.g. if sjt 1 ojt 2 exists sjt 2 ojt 1 is removed"
   ]
  },
  {
   "cell_type": "code",
   "execution_count": 35,
   "metadata": {},
   "outputs": [],
   "source": [
    "delrows = []\n",
    "droppedrows = 0\n",
    "for row in conflicts.iterrows():\n",
    "    duplicates = conflicts[((conflicts['ojt'] == row[1]['sjt']) & (conflicts['sjt'] == row[1]['ojt']))]\n",
    "    if not duplicates.empty:\n",
    "        #print(duplicates)\n",
    "        for duplicate in duplicates.iterrows():\n",
    "            if duplicate[0] not in delrows:\n",
    "                droppedrows += 1\n",
    "                #print(duplicate[0], row[0])\n",
    "                delrows.append(row[0])\n",
    "                conflicts.drop(duplicate[0], inplace=True)"
   ]
  },
  {
   "cell_type": "code",
   "execution_count": 36,
   "metadata": {},
   "outputs": [],
   "source": [
    "cc_centralization = []\n",
    "cc_density = []\n",
    "department_no = []\n",
    "for i in range(1, 13):\n",
    "    target_dept = i\n",
    "    #print(\"Dept:\", target_dept)\n",
    "    if target_dept != 4:\n",
    "        department_no.append(target_dept)\n",
    "        dept = conflicts.loc[ ((conflicts['dep_sjt'] == target_dept) | (conflicts['dep_ojt'] == target_dept)) ]\n",
    "        G = nx.from_pandas_edgelist(dept, 'sjt', 'ojt', create_using=nx.Graph)\n",
    "        max = 0\n",
    "        for node in G:\n",
    "            num_conflicts = len(dept.loc[dept['sjt'] == node].index)+len(dept.loc[dept['ojt'] == node].index)\n",
    "            #print('ID: ', node, 'Conflicts: ', num_conflicts)\n",
    "            if num_conflicts > max:\n",
    "                max = num_conflicts\n",
    "        #print(\"Max number of Edges on a node: \", max)\n",
    "        #print(\"Number of Nodes: \", len(G))\n",
    "        sum = 0\n",
    "        for node in G:\n",
    "            num_conflicts = len(dept.loc[dept['sjt'] == node].index)+len(dept.loc[dept['ojt'] == node].index)\n",
    "            #print(\"ID:\", node, \"Num_conflicts:\", num_conflicts)\n",
    "            sum = sum + (max - num_conflicts)\n",
    "        #print(\"Sum: \", sum)\n",
    "        denominator = ((len(G)-1) * (len(G)-2))\n",
    "        #print(\"Denominator: \", denominator)\n",
    "        centralization = sum / denominator\n",
    "        cc_centralization.append(centralization)\n",
    "        #print(\"Centralization: ,\", centralization)\n",
    "        density = (2*G.number_of_edges())/(G.number_of_nodes()*(G.number_of_nodes()-1))\n",
    "        cc_density.append(density)\n",
    "        #print(\"Density: ,\", density)"
   ]
  },
  {
   "cell_type": "code",
   "execution_count": 37,
   "metadata": {},
   "outputs": [
    {
     "data": {
      "image/png": "[encoded data removed]",
      "text/plain": [
       "<Figure size 432x288 with 1 Axes>"
      ]
     },
     "metadata": {
      "needs_background": "light"
     },
     "output_type": "display_data"
    }
   ],
   "source": [
    "#print(len(cc_density), len(ccc_entralization), len(department_no))\n",
    "con = pd.DataFrame({'x': cc_density,\n",
    "                    'y': cc_centralization,\n",
    "                    'department': department_no})\n",
    "\n",
    "ax = con.plot.scatter(x='x', y='y')\n",
    "\n",
    "for i, txt in enumerate(con.department):\n",
    "    ax.annotate(txt, (con.x.iat[i]+0.001, con.y.iat[i]))\n",
    "ax.set_xlabel(\"density\")\n",
    "ax.set_ylabel(\"centralization\")\n",
    "plt.show()"
   ]
  },
  {
   "cell_type": "code",
   "execution_count": 38,
   "metadata": {},
   "outputs": [
    {
     "name": "stdout",
     "output_type": "stream",
     "text": [
      "                                 OLS Regression Results                                \n",
      "=======================================================================================\n",
      "Dep. Variable:                      y   R-squared (uncentered):                   0.812\n",
      "Model:                            OLS   Adj. R-squared (uncentered):              0.793\n",
      "Method:                 Least Squares   F-statistic:                              43.09\n",
      "Date:                Mon, 01 Aug 2022   Prob (F-statistic):                    6.36e-05\n",
      "Time:                        16:33:01   Log-Likelihood:                          18.645\n",
      "No. Observations:                  11   AIC:                                     -35.29\n",
      "Df Residuals:                      10   BIC:                                     -34.89\n",
      "Df Model:                           1                                                  \n",
      "Covariance Type:            nonrobust                                                  \n",
      "==============================================================================\n",
      "                 coef    std err          t      P>|t|      [0.025      0.975]\n",
      "------------------------------------------------------------------------------\n",
      "x1             0.1687      0.026      6.564      0.000       0.111       0.226\n",
      "==============================================================================\n",
      "Omnibus:                       12.338   Durbin-Watson:                   2.073\n",
      "Prob(Omnibus):                  0.002   Jarque-Bera (JB):                6.444\n",
      "Skew:                          -1.618   Prob(JB):                       0.0399\n",
      "Kurtosis:                       4.894   Cond. No.                         1.00\n",
      "==============================================================================\n",
      "\n",
      "Notes:\n",
      "[1] R² is computed without centering (uncentered) since the model does not contain a constant.\n",
      "[2] Standard Errors assume that the covariance matrix of the errors is correctly specified.\n"
     ]
    },
    {
     "name": "stderr",
     "output_type": "stream",
     "text": [
      "c:\\Users\\곰단\\AppData\\Local\\Programs\\Python\\Python310\\lib\\site-packages\\scipy\\stats\\_stats_py.py:1769: UserWarning: kurtosistest only valid for n>=20 ... continuing anyway, n=11\n",
      "  warnings.warn(\"kurtosistest only valid for n>=20 ... continuing \"\n"
     ]
    }
   ],
   "source": [
    "import statsmodels.api as sm\n",
    "mod = sm.OLS(cc_density, cc_centralization)\n",
    "result = mod.fit()\n",
    "print(result.summary())"
   ]
  }
 ],
 "metadata": {
  "kernelspec": {
   "display_name": "Python 3.10.5 64-bit",
   "language": "python",
   "name": "python3"
  },
  "language_info": {
   "codemirror_mode": {
    "name": "ipython",
    "version": 3
   },
   "file_extension": ".py",
   "mimetype": "text/x-python",
   "name": "python",
   "nbconvert_exporter": "python",
   "pygments_lexer": "ipython3",
   "version": "3.10.5"
  },
  "orig_nbformat": 4,
  "vscode": {
   "interpreter": {
    "hash": "0099406c833970477e1e568a9428f8295812bf62f32ab18747b24a0def096b25"
   }
  }
 },
 "nbformat": 4,
 "nbformat_minor": 2
}
