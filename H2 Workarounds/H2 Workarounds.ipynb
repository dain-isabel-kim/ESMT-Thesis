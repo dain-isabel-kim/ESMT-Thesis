{
 "cells": [
  {
   "cell_type": "code",
   "execution_count": 25,
   "metadata": {},
   "outputs": [
    {
     "name": "stderr",
     "output_type": "stream",
     "text": [
      "C:\\Users\\곰단\\AppData\\Local\\Temp\\ipykernel_3828\\2029714194.py:7: DtypeWarning: Columns (3,4) have mixed types. Specify dtype option on import or set low_memory=False.\n",
      "  emailDataInput = pd.read_csv('../Dataset/FinalEdata.csv')\n"
     ]
    }
   ],
   "source": [
    "import pandas as pd\n",
    "import numpy as np\n",
    "import networkx as nx\n",
    "from matplotlib import pyplot as plt\n",
    "from matplotlib.pyplot import figure\n",
    "attributesInput = pd.read_csv('../Dataset/AttributesF.csv')\n",
    "emailDataInput = pd.read_csv('../Dataset/FinalEdata.csv')\n",
    "conflictsInput = pd.read_csv('../Dataset/TC2.csv')"
   ]
  },
  {
   "cell_type": "code",
   "execution_count": 26,
   "metadata": {},
   "outputs": [],
   "source": [
    "Interdependency = conflictsInput.set_index(['Source'])\n",
    "Interdependency = Interdependency.stack().to_frame()\n",
    "Interdependency = Interdependency.rename_axis(['sjt', 'ojt']).reset_index()\n",
    "Interdependency = Interdependency.rename(columns={0: 'type'}) \n",
    "Interdependency = Interdependency.astype({'type': 'int32'})\n",
    "Interdependency = Interdependency.astype({'ojt': 'int32'})"
   ]
  },
  {
   "cell_type": "code",
   "execution_count": 27,
   "metadata": {},
   "outputs": [],
   "source": [
    "Interdependency['num_email'] = 0\n",
    "Interdependency['workaround'] = 0"
   ]
  },
  {
   "cell_type": "code",
   "execution_count": 28,
   "metadata": {},
   "outputs": [],
   "source": [
    "for i, row in Interdependency.iterrows():\n",
    "    number_of_emails = len(emailDataInput.loc[(emailDataInput['Sender'] == row['sjt']) & (emailDataInput['Recipient'] == row['ojt'])].index)\n",
    "    if number_of_emails > 0:\n",
    "        Interdependency.at[i, 'num_email'] = number_of_emails"
   ]
  },
  {
   "cell_type": "code",
   "execution_count": 29,
   "metadata": {},
   "outputs": [
    {
     "name": "stdout",
     "output_type": "stream",
     "text": [
      "Interdependency with at least 1 Email between them: 1717\n",
      "Interdependency: 3586\n"
     ]
    }
   ],
   "source": [
    "print(\"Interdependency with at least 1 Email between them:\", len(Interdependency.loc[Interdependency['num_email']>0].index))\n",
    "print(\"Interdependency:\", len(Interdependency.index))"
   ]
  },
  {
   "cell_type": "code",
   "execution_count": 30,
   "metadata": {},
   "outputs": [],
   "source": [
    "conflicts = Interdependency.loc[Interdependency['type'] == 1]\n",
    "for i, row in conflicts.iterrows():\n",
    "    sjt_Interdependency = Interdependency.loc[(Interdependency['sjt'] == row['sjt']) | (Interdependency['ojt'] == row['sjt'])]\n",
    "    sjt_Interdependency = sjt_Interdependency.loc[sjt_Interdependency['type'] != 1]\n",
    "    ojt_Interdependency = Interdependency.loc[(Interdependency['sjt'] == row['ojt']) | (Interdependency['ojt'] == row['ojt'])]\n",
    "    ojt_Interdependency = ojt_Interdependency.loc[ojt_Interdependency['type'] != 1]\n",
    "    common_sjt = sjt_Interdependency.loc[(sjt_Interdependency['sjt'].isin(ojt_Interdependency['sjt'])) | (sjt_Interdependency['ojt'].isin(ojt_Interdependency['sjt'])) | (sjt_Interdependency['sjt'].isin(ojt_Interdependency['ojt'])) | (sjt_Interdependency['ojt'].isin(ojt_Interdependency['ojt']))]\n",
    "    common_ojt = ojt_Interdependency.loc[(ojt_Interdependency['sjt'].isin(sjt_Interdependency['sjt'])) | (ojt_Interdependency['ojt'].isin(sjt_Interdependency['sjt'])) | (ojt_Interdependency['sjt'].isin(sjt_Interdependency['ojt'])) | (ojt_Interdependency['ojt'].isin(sjt_Interdependency['ojt']))]\n",
    "    for j, sjt_row in common_sjt.iterrows():\n",
    "        Interdependency.at[j, 'workaround'] = 1\n",
    "    for j, ojt_row in common_ojt.iterrows():\n",
    "        Interdependency.at[j, 'workaround'] = 1"
   ]
  },
  {
   "cell_type": "code",
   "execution_count": 31,
   "metadata": {},
   "outputs": [
    {
     "data": {
      "image/png": "[encoded data removed]",
      "text/plain": [
       "<Figure size 432x288 with 1 Axes>"
      ]
     },
     "metadata": {
      "needs_background": "light"
     },
     "output_type": "display_data"
    }
   ],
   "source": [
    "Interdependency = Interdependency.loc[Interdependency['num_email'] > 0]\n",
    "ax = Interdependency.plot.scatter(x='num_email', y='workaround')\n",
    "plt.show()"
   ]
  },
  {
   "cell_type": "code",
   "execution_count": 32,
   "metadata": {},
   "outputs": [],
   "source": [
    "plt.rc(\"font\", size=14)"
   ]
  },
  {
   "cell_type": "code",
   "execution_count": 33,
   "metadata": {},
   "outputs": [
    {
     "name": "stdout",
     "output_type": "stream",
     "text": [
      "Optimization terminated successfully.\n",
      "         Current function value: 0.534423\n",
      "         Iterations 8\n",
      "                         Results: Logit\n",
      "================================================================\n",
      "Model:              Logit            Pseudo R-squared: -0.461   \n",
      "Dependent Variable: workaround       AIC:              1837.2070\n",
      "Date:               2022-08-01 17:00 BIC:              1842.6554\n",
      "No. Observations:   1717             Log-Likelihood:   -917.60  \n",
      "Df Model:           0                LL-Null:          -627.94  \n",
      "Df Residuals:       1716             LLR p-value:      nan      \n",
      "Converged:          1.0000           Scale:            1.0000   \n",
      "No. Iterations:     8.0000                                      \n",
      "------------------------------------------------------------------\n",
      "            Coef.    Std.Err.      z      P>|z|    [0.025   0.975]\n",
      "------------------------------------------------------------------\n",
      "num_email   0.0384     0.0027   14.0451   0.0000   0.0331   0.0438\n",
      "================================================================\n",
      "\n"
     ]
    }
   ],
   "source": [
    "X = Interdependency['num_email']\n",
    "y = Interdependency['workaround']\n",
    "import statsmodels.api as sm\n",
    "logit_model=sm.Logit(y,X)\n",
    "result=logit_model.fit()\n",
    "print(result.summary2())"
   ]
  },
  {
   "cell_type": "code",
   "execution_count": 34,
   "metadata": {},
   "outputs": [],
   "source": [
    "Interdependency['conflict_present'] = np.where(Interdependency['type'] == 1, 1, 0)\n"
   ]
  },
  {
   "cell_type": "code",
   "execution_count": 35,
   "metadata": {},
   "outputs": [
    {
     "name": "stdout",
     "output_type": "stream",
     "text": [
      "Optimization terminated successfully.\n",
      "         Current function value: 0.498418\n",
      "         Iterations 8\n",
      "                         Results: Logit\n",
      "================================================================\n",
      "Model:              Logit            Pseudo R-squared: -0.544   \n",
      "Dependent Variable: conflict_present AIC:              1713.5667\n",
      "Date:               2022-08-01 17:00 BIC:              1719.0150\n",
      "No. Observations:   1717             Log-Likelihood:   -855.78  \n",
      "Df Model:           0                LL-Null:          -554.42  \n",
      "Df Residuals:       1716             LLR p-value:      nan      \n",
      "Converged:          1.0000           Scale:            1.0000   \n",
      "No. Iterations:     8.0000                                      \n",
      "-----------------------------------------------------------------\n",
      "             Coef.   Std.Err.     z      P>|z|    [0.025   0.975]\n",
      "-----------------------------------------------------------------\n",
      "num_email   -0.0518    0.0035  -14.7117  0.0000  -0.0587  -0.0449\n",
      "================================================================\n",
      "\n"
     ]
    }
   ],
   "source": [
    "X = Interdependency['num_email']\n",
    "y = Interdependency['conflict_present']\n",
    "logit_model=sm.Logit(y,X)\n",
    "result=logit_model.fit()\n",
    "print(result.summary2())"
   ]
  }
 ],
 "metadata": {
  "kernelspec": {
   "display_name": "Python 3.10.5 64-bit",
   "language": "python",
   "name": "python3"
  },
  "language_info": {
   "codemirror_mode": {
    "name": "ipython",
    "version": 3
   },
   "file_extension": ".py",
   "mimetype": "text/x-python",
   "name": "python",
   "nbconvert_exporter": "python",
   "pygments_lexer": "ipython3",
   "version": "3.10.5"
  },
  "orig_nbformat": 4,
  "vscode": {
   "interpreter": {
    "hash": "0099406c833970477e1e568a9428f8295812bf62f32ab18747b24a0def096b25"
   }
  }
 },
 "nbformat": 4,
 "nbformat_minor": 2
}
