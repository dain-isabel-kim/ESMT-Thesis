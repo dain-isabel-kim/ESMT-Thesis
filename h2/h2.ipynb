{
 "cells": [
  {
   "cell_type": "code",
   "execution_count": 75,
   "metadata": {},
   "outputs": [
    {
     "name": "stderr",
     "output_type": "stream",
     "text": [
      "/tmp/ipykernel_1326/2872392612.py:7: DtypeWarning: Columns (3,4) have mixed types. Specify dtype option on import or set low_memory=False.\n",
      "  emailDataInput = pd.read_csv('../inputdata/FinalEdata.csv')\n"
     ]
    }
   ],
   "source": [
    "import pandas as pd\n",
    "import numpy as np\n",
    "import networkx as nx\n",
    "from matplotlib import pyplot as plt\n",
    "from matplotlib.pyplot import figure\n",
    "attributesInput = pd.read_csv('../inputdata/AttributesF.csv')\n",
    "emailDataInput = pd.read_csv('../inputdata/FinalEdata.csv')\n",
    "conflictsInput = pd.read_csv('../inputdata/TC2.csv')"
   ]
  },
  {
   "cell_type": "code",
   "execution_count": 76,
   "metadata": {},
   "outputs": [],
   "source": [
    "relationships = conflictsInput.set_index(['Source'])\n",
    "relationships = relationships.stack().to_frame()\n",
    "relationships = relationships.rename_axis(['src', 'dest']).reset_index()\n",
    "relationships = relationships.rename(columns={0: 'type'}) \n",
    "relationships = relationships.astype({'type': 'int32'})\n",
    "relationships = relationships.astype({'dest': 'int32'})"
   ]
  },
  {
   "cell_type": "code",
   "execution_count": 77,
   "metadata": {},
   "outputs": [],
   "source": [
    "relationships['num_emails'] = 0\n",
    "relationships['workaround'] = 0"
   ]
  },
  {
   "cell_type": "code",
   "execution_count": 78,
   "metadata": {},
   "outputs": [],
   "source": [
    "for i, row in relationships.iterrows():\n",
    "    number_of_emails = len(emailDataInput.loc[(emailDataInput['Sender'] == row['src']) & (emailDataInput['Recipient'] == row['dest'])].index)\n",
    "    if number_of_emails > 0:\n",
    "        relationships.at[i, 'num_emails'] = number_of_emails"
   ]
  },
  {
   "cell_type": "code",
   "execution_count": 79,
   "metadata": {},
   "outputs": [
    {
     "name": "stdout",
     "output_type": "stream",
     "text": [
      "Relationships with at least 1 Email between them: 1717\n",
      "Relationships: 3586\n"
     ]
    }
   ],
   "source": [
    "print(\"Relationships with at least 1 Email between them:\", len(relationships.loc[relationships['num_emails']>0].index))\n",
    "print(\"Relationships:\", len(relationships.index))"
   ]
  },
  {
   "cell_type": "code",
   "execution_count": 80,
   "metadata": {},
   "outputs": [],
   "source": [
    "conflicts = relationships.loc[relationships['type'] == 1]\n",
    "for i, row in conflicts.iterrows():\n",
    "    src_relationships = relationships.loc[(relationships['src'] == row['src']) | (relationships['dest'] == row['src'])]\n",
    "    src_relationships = src_relationships.loc[src_relationships['type'] != 1]\n",
    "    dest_relationships = relationships.loc[(relationships['src'] == row['dest']) | (relationships['dest'] == row['dest'])]\n",
    "    dest_relationships = dest_relationships.loc[dest_relationships['type'] != 1]\n",
    "    common_src = src_relationships.loc[(src_relationships['src'].isin(dest_relationships['src'])) | (src_relationships['dest'].isin(dest_relationships['src'])) | (src_relationships['src'].isin(dest_relationships['dest'])) | (src_relationships['dest'].isin(dest_relationships['dest']))]\n",
    "    common_dest = dest_relationships.loc[(dest_relationships['src'].isin(src_relationships['src'])) | (dest_relationships['dest'].isin(src_relationships['src'])) | (dest_relationships['src'].isin(src_relationships['dest'])) | (dest_relationships['dest'].isin(src_relationships['dest']))]\n",
    "    for j, src_row in common_src.iterrows():\n",
    "        relationships.at[j, 'workaround'] = 1\n",
    "    for j, dest_row in common_dest.iterrows():\n",
    "        relationships.at[j, 'workaround'] = 1"
   ]
  },
  {
   "cell_type": "code",
   "execution_count": 81,
   "metadata": {},
   "outputs": [
    {
     "data": {
      "image/png": "[encoded data removed]",
      "text/plain": [
       "<Figure size 432x288 with 1 Axes>"
      ]
     },
     "metadata": {
      "needs_background": "light"
     },
     "output_type": "display_data"
    }
   ],
   "source": [
    "relationships = relationships.loc[relationships['num_emails'] > 0]\n",
    "ax = relationships.plot.scatter(x='num_emails', y='workaround')\n",
    "plt.show()"
   ]
  },
  {
   "cell_type": "code",
   "execution_count": 82,
   "metadata": {},
   "outputs": [],
   "source": [
    "plt.rc(\"font\", size=14)"
   ]
  },
  {
   "cell_type": "code",
   "execution_count": 83,
   "metadata": {},
   "outputs": [
    {
     "name": "stdout",
     "output_type": "stream",
     "text": [
      "Optimization terminated successfully.\n",
      "         Current function value: 0.534423\n",
      "         Iterations 8\n",
      "                         Results: Logit\n",
      "================================================================\n",
      "Model:              Logit            Pseudo R-squared: -0.461   \n",
      "Dependent Variable: workaround       AIC:              1837.2070\n",
      "Date:               2022-08-01 14:29 BIC:              1842.6554\n",
      "No. Observations:   1717             Log-Likelihood:   -917.60  \n",
      "Df Model:           0                LL-Null:          -627.94  \n",
      "Df Residuals:       1716             LLR p-value:      nan      \n",
      "Converged:          1.0000           Scale:            1.0000   \n",
      "No. Iterations:     8.0000                                      \n",
      "-----------------------------------------------------------------\n",
      "                Coef.   Std.Err.     z     P>|z|   [0.025  0.975]\n",
      "-----------------------------------------------------------------\n",
      "num_emails      0.0384    0.0027  14.0451  0.0000  0.0331  0.0438\n",
      "================================================================\n",
      "\n"
     ]
    }
   ],
   "source": [
    "X = relationships['num_emails']\n",
    "y = relationships['workaround']\n",
    "import statsmodels.api as sm\n",
    "logit_model=sm.Logit(y,X)\n",
    "result=logit_model.fit()\n",
    "print(result.summary2())"
   ]
  },
  {
   "cell_type": "code",
   "execution_count": 84,
   "metadata": {},
   "outputs": [],
   "source": [
    "relationships['conflict_present'] = np.where(relationships['type'] == 1, 1, 0)\n"
   ]
  },
  {
   "cell_type": "code",
   "execution_count": 85,
   "metadata": {},
   "outputs": [
    {
     "name": "stdout",
     "output_type": "stream",
     "text": [
      "Optimization terminated successfully.\n",
      "         Current function value: 0.498418\n",
      "         Iterations 8\n",
      "                         Results: Logit\n",
      "================================================================\n",
      "Model:              Logit            Pseudo R-squared: -0.544   \n",
      "Dependent Variable: conflict_present AIC:              1713.5667\n",
      "Date:               2022-08-01 14:29 BIC:              1719.0150\n",
      "No. Observations:   1717             Log-Likelihood:   -855.78  \n",
      "Df Model:           0                LL-Null:          -554.42  \n",
      "Df Residuals:       1716             LLR p-value:      nan      \n",
      "Converged:          1.0000           Scale:            1.0000   \n",
      "No. Iterations:     8.0000                                      \n",
      "-----------------------------------------------------------------\n",
      "             Coef.   Std.Err.     z      P>|z|    [0.025   0.975]\n",
      "-----------------------------------------------------------------\n",
      "num_emails  -0.0518    0.0035  -14.7117  0.0000  -0.0587  -0.0449\n",
      "================================================================\n",
      "\n"
     ]
    }
   ],
   "source": [
    "X = relationships['num_emails']\n",
    "y = relationships['conflict_present']\n",
    "logit_model=sm.Logit(y,X)\n",
    "result=logit_model.fit()\n",
    "print(result.summary2())"
   ]
  }
 ],
 "metadata": {
  "kernelspec": {
   "display_name": "Python 3.8.10 64-bit",
   "language": "python",
   "name": "python3"
  },
  "language_info": {
   "codemirror_mode": {
    "name": "ipython",
    "version": 3
   },
   "file_extension": ".py",
   "mimetype": "text/x-python",
   "name": "python",
   "nbconvert_exporter": "python",
   "pygments_lexer": "ipython3",
   "version": "3.8.10"
  },
  "orig_nbformat": 4,
  "vscode": {
   "interpreter": {
    "hash": "916dbcbb3f70747c44a77c7bcd40155683ae19c65e1c03b4aa3499c5328201f1"
   }
  }
 },
 "nbformat": 4,
 "nbformat_minor": 2
}
